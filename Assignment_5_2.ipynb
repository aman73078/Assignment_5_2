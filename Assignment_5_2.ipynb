{
 "cells": [
  {
   "cell_type": "code",
   "execution_count": 1,
   "id": "d1715e36-a1a3-4565-99a8-e4ee0757fb81",
   "metadata": {},
   "outputs": [],
   "source": [
    "# Q1. Explain why we have to use the Exception class while creating a Custom Exception.\n",
    "#     Note: Here Exception class refers to the base class for all the exceptions."
   ]
  },
  {
   "cell_type": "code",
   "execution_count": 2,
   "id": "63b0c32a-06ad-40ca-9544-8e1dcb08daef",
   "metadata": {},
   "outputs": [],
   "source": [
    "# Ans- To create our custom exception in python we create a new class that inherits from the built-in Exception \n",
    "#      class. This allows us to tailor the exception to our specific needs. Exception class behaves like a \n",
    "#      parents class and custom class behave like a child class. Exception class refers to the base class for \n",
    "#      all the exceptions. whenever child class need to have any specific exception it takes from parents class.\n",
    "# "
   ]
  },
  {
   "cell_type": "code",
   "execution_count": 3,
   "id": "2e79cfd5-e665-4bd4-8015-607c44807a29",
   "metadata": {},
   "outputs": [],
   "source": [
    "# Q2. Write a python program to print Python Exception Hierarchy."
   ]
  },
  {
   "cell_type": "code",
   "execution_count": 1,
   "id": "5647e2f5-934c-4cbf-bfed-5a0fb3d9507c",
   "metadata": {},
   "outputs": [],
   "source": [
    "# Ans-\n",
    "import logging\n",
    "logging.basicConfig(filename=\"data1.log\", level=logging.INFO, format= \"%(asctime)s %(levelname)s %(message)s \")\n",
    "\n",
    "logging.info(\"Here, we are checking ZeroDivisionError\")\n",
    "try:\n",
    "    l = \"mango\"\n",
    "    print(l/2)\n",
    "except BaseException as e:\n",
    "    logging.error(\"This block has been Executed and Exception : {}\".format(e) )\n",
    "    "
   ]
  },
  {
   "cell_type": "code",
   "execution_count": 6,
   "id": "9458264c-4ad6-466b-9813-e426c408235f",
   "metadata": {},
   "outputs": [],
   "source": [
    "# Q3. What errors are defined in the ArithmeticError class? Explain any two with an example."
   ]
  },
  {
   "cell_type": "code",
   "execution_count": 1,
   "id": "52db5d73-7682-4d6f-a57e-d4dfb78e5db0",
   "metadata": {},
   "outputs": [],
   "source": [
    "# Ans- Three errors are defined in the ArithmeticError class.\n",
    "#      a. OverFlowError\n",
    "#      b. ZeroDivisionError\n",
    "#      c. FloatingPointError\n",
    "\n",
    "import logging\n",
    "\n",
    "logging.basicConfig(filename = \"data2.log\", level= logging.INFO, format = \"%(asctime)s %(levelname)s %(message)s\")\n",
    "\n",
    "logging.info(\"Here, we show the ZeroDivisionError \")\n",
    "try:\n",
    "    a = 10\n",
    "    b = 0\n",
    "    a/b\n",
    "except ZeroDivisionError as e:\n",
    "    logging.error(\"This block has been executed and Exception : {}\".format(e))\n",
    "    "
   ]
  },
  {
   "cell_type": "code",
   "execution_count": 1,
   "id": "40301c6a-d4ca-45e3-9200-c87379db497f",
   "metadata": {},
   "outputs": [
    {
     "name": "stdout",
     "output_type": "stream",
     "text": [
      "5.0\n",
      "25.0\n",
      "15625.0\n",
      "5.960464477539062e+16\n",
      "7.52316384526264e+83\n"
     ]
    }
   ],
   "source": [
    "import logging\n",
    "logging.basicConfig(filename=\"data3.log\", level= logging.INFO, format= \"%(asctime)s %(levelname)s %(message)s\")\n",
    "\n",
    "logging.info(\"Here, we are trying to show an example of OverflowError \")\n",
    "try:\n",
    "    j = 5.0\n",
    "    for i in range(1, 1000):\n",
    "        j = j**i\n",
    "        print(j)\n",
    "except OverflowError as e:\n",
    "    logging.error(\"This block has been executed and Exception : {}\".format(e))"
   ]
  },
  {
   "cell_type": "code",
   "execution_count": 2,
   "id": "68ef5f1c-cc90-44aa-b7dd-ed610f0f5157",
   "metadata": {},
   "outputs": [],
   "source": [
    "# Q4. Why LookupError class is used? Explain with an example KeyError and IndexError."
   ]
  },
  {
   "cell_type": "code",
   "execution_count": 1,
   "id": "4361162f-191f-4e8d-8172-672178fd06d4",
   "metadata": {},
   "outputs": [],
   "source": [
    "# Ans- LookupError Exception is the Base class for errors raised when something can't be found. The base class for\n",
    "#      the exceptions that are raised when a key or index used on a mapping or sequence is invalid: IndexError, \n",
    "#      KeyError. An IndexError is raised when a sequence reference is out of range.\n",
    "\n",
    "# Example:-\n",
    "\n",
    "import logging\n",
    "logging.basicConfig(filename=\"data4.log\", level= logging.INFO, format= \"%(asctime)s %(levelname)s %(message)s\")\n",
    "\n",
    "logging.info(\"Here, we are just trying to show an example of KeyError\")\n",
    "try:\n",
    "    d = {\"name\" : \"kishori\", \"phone_number\" : 83938293, \"student_id\" : 170}\n",
    "    print(d[\"key\"])\n",
    "except KeyError as e:\n",
    "    logging.error(\"This block has been executed and Exception : {}\".format(e))"
   ]
  },
  {
   "cell_type": "code",
   "execution_count": 1,
   "id": "5c7cadde-ea9f-469d-8388-bf404bc48c73",
   "metadata": {},
   "outputs": [],
   "source": [
    "import logging\n",
    "logging.basicConfig(filename=\"data5.log\", level= logging.INFO, format= \"%(asctime)s %(levelname)s %(message)s\")\n",
    "\n",
    "logging.info(\"Here, we are showing an example of IndexError\")\n",
    "try:\n",
    "    num_list = [1,2,3,4,5,6,7,8,9,10]\n",
    "    print(num_list[20])\n",
    "except IndexError as e:\n",
    "    logging.error(\"This block has been executed and Exception : {}\".format(e))"
   ]
  },
  {
   "cell_type": "code",
   "execution_count": 2,
   "id": "4d6ba7c1-cd44-4fa1-a75d-577d682641d2",
   "metadata": {},
   "outputs": [],
   "source": [
    "# Q5. Explain ImportError. What is ModuleNotFoundError?"
   ]
  },
  {
   "cell_type": "code",
   "execution_count": 1,
   "id": "fab69842-ecbb-4785-8bca-546a3776e42a",
   "metadata": {},
   "outputs": [],
   "source": [
    "# Ans- In Python, ImportError occurs when the Python program tries to import module which does not exist in the \n",
    "#      private table. The 'module not found' error is a syntax error that appears when the static import statement\n",
    "#      cannot find the file at the declared path.  find the file at the declared path.\n",
    "\n",
    "# Example:-\n",
    "\n",
    "import logging\n",
    "logging.basicConfig(filename=\"data6.log\", level= logging.INFO, format= \"%(asctime)s %(levelname)s %(message)s\")\n",
    "\n",
    "logging.info(\"Here, we are showing an example of ImportError\")\n",
    "try:\n",
    "    import mango\n",
    "except ModuleNotFoundError as e:\n",
    "    logging.error(\"This block has been executed and Exception : {}\".format(e))"
   ]
  },
  {
   "cell_type": "code",
   "execution_count": 3,
   "id": "598cb171-8118-4a6f-af23-a5b47da1b61f",
   "metadata": {},
   "outputs": [],
   "source": [
    "# Q6. List down some best practices for exception handling in python.error"
   ]
  },
  {
   "cell_type": "code",
   "execution_count": null,
   "id": "63ff243b-0754-410f-9283-d6009454cd9d",
   "metadata": {},
   "outputs": [],
   "source": [
    "# Ans-\n",
    "\n",
    "    # Use Exceptions for Exceptional Cases. ...\n",
    "    # Don't Swallow the Exception. ...\n",
    "    # Catch Specific Exceptions. ...\n",
    "    # Always Clean Up Resources in a Finally Block. ...\n",
    "    # Avoid Raising Generic Exceptions. ...\n",
    "    # Raise Custom Exceptions. ...\n",
    "    # Define Your Own Exception Hierarchy. ...\n",
    "    # Document All Exceptions Thrown by a Function."
   ]
  },
  {
   "cell_type": "code",
   "execution_count": null,
   "id": "800897b8-bb0e-4e86-a1a1-df06a08406f6",
   "metadata": {},
   "outputs": [],
   "source": []
  }
 ],
 "metadata": {
  "kernelspec": {
   "display_name": "Python 3 (ipykernel)",
   "language": "python",
   "name": "python3"
  },
  "language_info": {
   "codemirror_mode": {
    "name": "ipython",
    "version": 3
   },
   "file_extension": ".py",
   "mimetype": "text/x-python",
   "name": "python",
   "nbconvert_exporter": "python",
   "pygments_lexer": "ipython3",
   "version": "3.10.8"
  }
 },
 "nbformat": 4,
 "nbformat_minor": 5
}
